{
 "cells": [
  {
   "cell_type": "markdown",
   "metadata": {},
   "source": [
    "# Stock Data Analysis Demo\n",
    "\n",
    "This notebook demonstrates how to use the `stock_analysis.py` script to analyze stock market data from the `StockData.csv` file."
   ]
  },
  {
   "cell_type": "code",
   "execution_count": null,
   "metadata": {},
   "source": [
    "# Import necessary libraries\n",
    "import pandas as pd\n",
    "import matplotlib.pyplot as plt\n",
    "import seaborn as sns\n",
    "import numpy as np\n",
    "from pathlib import Path\n",
    "\n",
    "# Import functions from our analysis script\n",
    "from stock_analysis import load_data, clean_data, basic_stats, plot_top_stocks, analyze_time_trends, correlation_analysis"
   ]
  },
  {
   "cell_type": "markdown",
   "metadata": {},
   "source": [
    "## 1. Load and Explore the Data\n",
    "\n",
    "First, let's load the CSV file and take a look at its structure."
   ]
  },
  {
   "cell_type": "code",
   "execution_count": null,
   "metadata": {},
   "source": [
    "# Load the data\n",
    "file_path = 'data/StockData.csv'\n",
    "df = load_data(file_path)\n",
    "\n",
    "# Display basic information\n",
    "print(f\"Dataset shape: {df.shape}\")\n",
    "print(\"\\nFirst 5 rows:\")\n",
    "df.head()"
   ]
  },
  {
   "cell_type": "code",
   "execution_count": null,
   "metadata": {},
   "source": [
    "# Check data types and missing values\n",
    "print(\"Data types:\")\n",
    "print(df.dtypes)\n",
    "\n",
    "print(\"\\nMissing values per column:\")\n",
    "print(df.isnull().sum())\n",
    "\n",
    "# Get unique tickers\n",
    "unique_tickers = df['Ticker'].unique()\n",
    "print(f\"\\nNumber of unique stock tickers: {len(unique_tickers)}\")\n",
    "print(f\"Sample tickers: {unique_tickers[:10]}\")"
   ]
  },
  {
   "cell_type": "markdown",
   "metadata": {},
   "source": [
    "## 2. Clean the Data\n",
    "\n",
    "Now let's clean the data to handle missing values and improve data types."
   ]
  },
  {
   "cell_type": "code",
   "execution_count": null,
   "metadata": {},
   "source": [
    "# Clean the data\n",
    "cleaned_df = clean_data(df)\n",
    "\n",
    "# Check the cleaned dataframe\n",
    "print(f\"Original shape: {df.shape}\")\n",
    "print(f\"Cleaned shape: {cleaned_df.shape}\")\n",
    "\n",
    "# Display the cleaned data\n",
    "cleaned_df.head()"
   ]
  },
  {
   "cell_type": "code",
   "execution_count": null,
   "metadata": {},
   "source": [
    "# Check the new date column\n",
    "if 'Date' in cleaned_df.columns:\n",
    "    print(\"Date range:\")\n",
    "    print(f\"Earliest date: {cleaned_df['Date'].min()}\")\n",
    "    print(f\"Latest date: {cleaned_df['Date'].max()}\")"
   ]
  },
  {
   "cell_type": "markdown",
   "metadata": {},
   "source": [
    "## 3. Basic Statistics\n",
    "\n",
    "Let's calculate and explore some basic statistics about the stocks."
   ]
  },
  {
   "cell_type": "code",
   "execution_count": null,
   "metadata": {},
   "source": [
    "# Calculate basic statistics\n",
    "stats = basic_stats(cleaned_df)\n",
    "\n",
    "# Display summary statistics\n",
    "print(\"Overall summary statistics:\")\n",
    "cleaned_df.describe()"
   ]
  },
  {
   "cell_type": "code",
   "execution_count": null,
   "metadata": {},
   "source": [
    "# Find top stocks by EPS\n",
    "top_eps = cleaned_df.groupby('Ticker')['EPS'].mean().sort_values(ascending=False).head(10)\n",
    "print(\"Top 10 stocks by average EPS:\")\n",
    "top_eps"
   ]
  },
  {
   "cell_type": "code",
   "execution_count": null,
   "metadata": {},
   "source": [
    "# Find top stocks by Revenue\n",
    "top_revenue = cleaned_df.groupby('Ticker')['Revenue'].mean().sort_values(ascending=False).head(10)\n",
    "print(\"Top 10 stocks by average Revenue:\")\n",
    "top_revenue"
   ]
  },
  {
   "cell_type": "markdown",
   "metadata": {},
   "source": [
    "## 4. Data Visualization\n",
    "\n",
    "Now let's create some visualizations to better understand the data."
   ]
  },
  {
   "cell_type": "code",
   "execution_count": null,
   "metadata": {},
   "source": [
    "# Plot top stocks by EPS\n",
    "plt.figure(figsize=(12, 6))\n",
    "top_eps.plot(kind='bar')\n",
    "plt.title('Top 10 Stocks by Average EPS')\n",
    "plt.ylabel('EPS')\n",
    "plt.xlabel('Ticker')\n",
    "plt.xticks(rotation=45)\n",
    "plt.grid(axis='y', alpha=0.3)\n",
    "plt.tight_layout()\n",
    "plt.show()"
   ]
  },
  {
   "cell_type": "code",
   "execution_count": null,
   "metadata": {},
   "source": [
    "# Plot top stocks by Revenue\n",
    "plt.figure(figsize=(12, 6))\n",
    "top_revenue.plot(kind='bar')\n",
    "plt.title('Top 10 Stocks by Average Revenue')\n",
    "plt.ylabel('Revenue (in millions)')\n",
    "plt.xlabel('Ticker')\n",
    "plt.xticks(rotation=45)\n",
    "plt.grid(axis='y', alpha=0.3)\n",
    "plt.tight_layout()\n",
    "plt.show()"
   ]
  },
  {
   "cell_type": "markdown",
   "metadata": {},
   "source": [
    "## 5. Time Series Analysis\n",
    "\n",
    "Let's examine how stock metrics change over time for a specific ticker."
   ]
  },
  {
   "cell_type": "code",
   "execution_count": null,
   "metadata": {},
   "source": [
    "# Select a ticker for time series analysis\n",
    "# Using the top EPS performer\n",
    "top_ticker = top_eps.index[0]\n",
    "print(f\"Analyzing time series for {top_ticker}\")\n",
    "\n",
    "# Filter for the specific ticker\n",
    "ticker_df = cleaned_df[cleaned_df['Ticker'] == top_ticker].sort_values('Date')\n",
    "ticker_df.head()"
   ]
  },
  {
   "cell_type": "code",
   "execution_count": null,
   "metadata": {},
   "source": [
    "# Plot EPS and Price over time\n",
    "plt.figure(figsize=(14, 10))\n",
    "\n",
    "# EPS subplot\n",
    "plt.subplot(2, 1, 1)\n",
    "plt.plot(ticker_df['Date'], ticker_df['EPS'], marker='o')\n",
    "plt.title(f'{top_ticker} - EPS Over Time')\n",
    "plt.ylabel('EPS')\n",
    "plt.grid(True, alpha=0.3)\n",
    "\n",
    "# Price subplot\n",
    "plt.subplot(2, 1, 2)\n",
    "plt.plot(ticker_df['Date'], ticker_df['Price'], marker='o', color='green')\n",
    "plt.title(f'{top_ticker} - Price Over Time')\n",
    "plt.ylabel('Price ($)')\n",
    "plt.grid(True, alpha=0.3)\n",
    "\n",
    "plt.tight_layout()\n",
    "plt.show()"
   ]
  },
  {
   "cell_type": "markdown",
   "metadata": {},
   "source": [
    "## 6. Correlation Analysis\n",
    "\n",
    "Let's analyze correlations between different stock metrics."
   ]
  },
  {
   "cell_type": "code",
   "execution_count": null,
   "metadata": {},
   "source": [
    "# Calculate correlations for numerical columns\n",
    "corr_matrix = correlation_analysis(cleaned_df)\n",
    "corr_matrix"
   ]
  },
  {
   "cell_type": "code",
   "execution_count": null,
   "metadata": {},
   "source": [
    "# Create a more detailed correlation heatmap\n",
    "plt.figure(figsize=(10, 8))\n",
    "sns.heatmap(corr_matrix, annot=True, cmap='coolwarm', vmin=-1, vmax=1, linewidths=0.5)\n",
    "plt.title('Correlation Matrix of Stock Metrics')\n",
    "plt.tight_layout()\n",
    "plt.show()"
   ]
  },
  {
   "cell_type": "markdown",
   "metadata": {},
   "source": [
    "## 7. Sector-based Analysis\n",
    "\n",
    "If we had sector information, we could analyze performance by sector. For now, we'll simulate this by grouping companies alphabetically."
   ]
  },
  {
   "cell_type": "code",
   "execution_count": null,
   "metadata": {},
   "source": [
    "# Create a simple group based on first letter of ticker\n",
    "cleaned_df['AlphaGroup'] = cleaned_df['Ticker'].str[0]\n",
    "\n",
    "# Calculate mean EPS by alpha group\n",
    "alpha_group_eps = cleaned_df.groupby('AlphaGroup')['EPS'].mean().sort_values(ascending=False)\n",
    "\n",
    "# Plot\n",
    "plt.figure(figsize=(12, 6))\n",
    "alpha_group_eps.plot(kind='bar')\n",
    "plt.title('Average EPS by Ticker First Letter')\n",
    "plt.ylabel('Average EPS')\n",
    "plt.xlabel('First Letter of Ticker')\n",
    "plt.grid(axis='y', alpha=0.3)\n",
    "plt.tight_layout()\n",
    "plt.show()"
   ]
  },
  {
   "cell_type": "markdown",
   "metadata": {},
   "source": [
    "## 8. Advanced Analysis: EPS and Price Relationship\n",
    "\n",
    "Let's examine if there's a relationship between EPS and stock price."
   ]
  },
  {
   "cell_type": "code",
   "execution_count": null,
   "metadata": {},
   "source": [
    "# Create a scatter plot of EPS vs Price\n",
    "plt.figure(figsize=(10, 8))\n",
    "plt.scatter(cleaned_df['EPS'], cleaned_df['Price'], alpha=0.5)\n",
    "plt.title('Relationship between EPS and Stock Price')\n",
    "plt.xlabel('Earnings Per Share (EPS)')\n",
    "plt.ylabel('Stock Price ($)')\n",
    "plt.grid(True, alpha=0.3)\n",
    "\n",
    "# Add regression line\n",
    "if 'EPS' in cleaned_df.columns and 'Price' in cleaned_df.columns:\n",
    "    # Remove NaN values\n",
    "    valid_data = cleaned_df.dropna(subset=['EPS', 'Price'])\n",
    "    \n",
    "    if len(valid_data) > 1:\n",
    "        x = valid_data['EPS']\n",
    "        y = valid_data['Price']\n",
    "        \n",
    "        # Calculate regression line\n",
    "        slope, intercept = np.polyfit(x, y, 1)\n",
    "        regression_line = slope * x + intercept\n",
    "        \n",
    "        # Plot regression line\n",
    "        plt.plot(x, regression_line, color='red', linewidth=2)\n",
    "        plt.text(x.max()*0.7, y.min()*1.1, f'y = {slope:.2f}x + {intercept:.2f}', fontsize=12)\n",
    "\n",
    "plt.tight_layout()\n",
    "plt.show()"
   ]
  },
  {
   "cell_type": "markdown",
   "metadata": {},
   "source": [
    "## 9. Dividend Analysis\n",
    "\n",
    "Let's analyze the dividend amounts across different stocks."
   ]
  },
  {
   "cell_type": "code",
   "execution_count": null,
   "metadata": {},
   "source": [
    "# Find top dividend payers\n",
    "if 'DivAmt' in cleaned_df.columns:\n",
    "    top_div = cleaned_df.groupby('Ticker')['DivAmt'].mean().sort_values(ascending=False).head(10)\n",
    "    \n",
    "    plt.figure(figsize=(12, 6))\n",
    "    top_div.plot(kind='bar')\n",
    "    plt.title('Top 10 Stocks by Average Dividend Amount')\n",
    "    plt.ylabel('Dividend Amount ($)')\n",
    "    plt.xlabel('Ticker')\n",
    "    plt.xticks(rotation=45)\n",
    "    plt.grid(axis='y', alpha=0.3)\n",
    "    plt.tight_layout()\n",
    "    plt.show()"
   ]
  },
  {
   "cell_type": "markdown",
   "metadata": {},
   "source": [
    "## 10. Conclusion\n",
    "\n",
    "In this notebook, we've analyzed the stock data from multiple angles:\n",
    "\n",
    "1. Basic data exploration and cleaning\n",
    "2. Statistical analysis of stock performance\n",
    "3. Visualization of top performers\n",
    "4. Time series analysis for selected stocks\n",
    "5. Correlation analysis between different metrics\n",
    "6. Group-based analysis\n",
    "7. Relationship between EPS and stock price\n",
    "8. Dividend analysis\n",
    "\n",
    "This analysis provides insights into stock performance metrics and their relationships. Further analysis could include:\n",
    "\n",
    "- More sophisticated time series forecasting\n",
    "- Sector-based analysis with proper sector classifications\n",
    "- Portfolio optimization based on these metrics\n",
    "- Risk analysis using volatility measures"
   ]
  }
 ],
 "metadata": {
  "kernelspec": {
   "display_name": "Python 3",
   "language": "python",
   "name": "python3"
  },
  "language_info": {
   "codemirror_mode": {
    "name": "ipython",
    "version": 3
   },
   "file_extension": ".py",
   "mimetype": "text/x-python",
   "name": "python",
   "nbconvert_exporter": "python",
   "pygments_lexer": "ipython3",
   "version": "3.8.10"
  }
 },
 "nbformat": 4,
 "nbformat_minor": 4
}
